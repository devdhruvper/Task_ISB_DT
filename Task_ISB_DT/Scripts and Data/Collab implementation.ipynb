{
  "nbformat": 4,
  "nbformat_minor": 0,
  "metadata": {
    "colab": {
      "provenance": [],
      "include_colab_link": true
    },
    "kernelspec": {
      "name": "python3",
      "display_name": "Python 3"
    },
    "language_info": {
      "name": "python"
    }
  },
  "cells": [
    {
      "cell_type": "markdown",
      "metadata": {
        "id": "view-in-github",
        "colab_type": "text"
      },
      "source": [
        "<a href=\"https://colab.research.google.com/github/devdhruvper/Task_ISB_DT/blob/master/Task_ISB_DT/Scripts%20and%20Data/Collab%20implementation.ipynb\" target=\"_parent\"><img src=\"https://colab.research.google.com/assets/colab-badge.svg\" alt=\"Open In Colab\"/></a>"
      ]
    },
    {
      "cell_type": "code",
      "execution_count": null,
      "metadata": {
        "colab": {
          "base_uri": "https://localhost:8080/"
        },
        "id": "gVUoYJUMrVgz",
        "outputId": "a99d91be-70e9-48bb-e05a-f4f153f9cf2b"
      },
      "outputs": [
        {
          "output_type": "stream",
          "name": "stdout",
          "text": [
            "            week    location   average_price\n",
            "0     26/08/2008     Kolkata  176.74(166.83)\n",
            "1     26/08/2008    Guwahati  153.87(142.38)\n",
            "2     26/08/2008    Siliguri  124.43(127.29)\n",
            "3     26/08/2008  Jalpaiguri          NS(NS)\n",
            "4     26/08/2008   mjunction                \n",
            "...          ...         ...             ...\n",
            "6459  07/01/2023  Jalpaiguri          NS(NS)\n",
            "6460  07/01/2023   mjunction  118.65(126.04)\n",
            "6461  07/01/2023      Cochin  144.85(142.14)\n",
            "6462  07/01/2023     Coonoor   113.18(97.19)\n",
            "6463  07/01/2023  Coimbatore  121.27(112.37)\n",
            "\n",
            "[6464 rows x 3 columns]\n"
          ]
        }
      ],
      "source": [
        "#Task1 - Dhruv Talan\n",
        "#defining the function we will need to convert our date into the following fromat of dd-mm-yyy\n",
        "from datetime import datetime\n",
        "def convert_suitably(data_str):\n",
        " date_obj = datetime.strptime(data_str, \"%d/%m/%Y\")\n",
        " new_date_str = date_obj.strftime(\"%d-%m-%Y\")\n",
        " return new_date_str\n",
        "import requests\n",
        "from bs4 import BeautifulSoup\n",
        "import pandas as pd\n",
        "#import all the necessary libraies\n",
        "\n",
        "data_final_list=[]\n",
        "for year in range(2008,2024):\n",
        " #used an fstring here to get the urls of all the years iteratively\n",
        "\n",
        " URL=f'https://www.teaboard.gov.in/WEEKLYPRICES/{year}'\n",
        " response=requests.get(URL)\n",
        " Soup=BeautifulSoup(response.content,'html.parser')\n",
        " tables = Soup.find_all('table')\n",
        " second_table = tables[1]\n",
        "\n",
        " # I obsereved that second table is the table whose data needs to be collected\n",
        "\n",
        " tr_first = second_table.find('tr')\n",
        " th = tr_first.find_all('b')\n",
        " c_n = []\n",
        " for col_name in th:\n",
        "     c_n.append(col_name.text)\n",
        "\n",
        " '''\n",
        " Getting the header names of the table using the first <tr> element and the header cells in it\n",
        " '''\n",
        " lencn=len(c_n) #reprents the totaL no of cells in the header row\n",
        "#  print(lencn)\n",
        "\n",
        " #removed the weekly day time , simply dont need it and created\n",
        " tr_all = second_table.find_all('tr')\n",
        " relevant_tr = tr_all[1:]\n",
        "\n",
        " cell = []\n",
        " for tr in relevant_tr:\n",
        "     for row in tr.find_all('td'):\n",
        "         for data in row.find_all('span'):\n",
        "             cell.append(data.text)\n",
        " lencell=len(cell)#represnts total no of cells in the table\n",
        "#  print(lencell)\n",
        " a=int(lencell/lencn)\n",
        "#  print(a) # a means basically the number of rows\n",
        "\n",
        "\n",
        " c_n.pop(lencn-1)#we dont want the first and last elemnt that's why popping them out\n",
        " c_n.pop(0)\n",
        " c_n = [c_n[i] for j in range(0,a) for i in range(0, lencn-2)] #creating the location list which is just a repetition of locations\n",
        " #lencn-2 becuase we dont need the first and the last column i.e weekly/date time and tea serve columns repectively\n",
        "\n",
        " nested_list = []\n",
        " for i in range(0, lencell, lencn):\n",
        "     nested_list.append(cell[i:i + lencn])  #making my nested list such that it contanis rows as elemnts of the table\n",
        "\n",
        " for lict in nested_list:\n",
        "     lict = lict.pop(lencn-1)  #popping the unwanted tea serve column value\n",
        "\n",
        " day = []\n",
        " average_prices = []\n",
        " for lict in nested_list:\n",
        "     day.append(lict[0])\n",
        "     average_prices.append(lict[1:])\n",
        " list_of_entries = []\n",
        " week_date = []\n",
        " df = pd.DataFrame({'Week': week_date,\n",
        "                    'average_price': list_of_entries}) #creating my dataframe for a particular value of date just an example\n",
        "\n",
        " df_list = []\n",
        "\n",
        " for i, j in zip(day, average_prices):\n",
        "     week_date = [i] * 8\n",
        "     df = pd.DataFrame({'Week': week_date, 'average_price': j}) #creating my dataframe with actual loop values\n",
        "     df_list.append(df) #holidng my dataframes for diffewrent dates\n",
        "\n",
        " df_final = pd.concat(df_list)\n",
        " df_final.reset_index(drop=True, inplace=True) #created my final dataframe with two columns\n",
        "\n",
        " # convert list to series\n",
        " new_col_series = pd.Series(c_n)\n",
        "\n",
        " # insert new column into dataframe\n",
        " df_final.insert(loc=2, column='location', value=new_col_series)  #adding my location column\n",
        " df_final.iloc[:, [2, 1]] = df_final.iloc[:, [1, 2]].values #swapping the columns to get output in expected format\n",
        " df_final=df_final.rename(columns={'Week': 'week', 'average_price': 'location', 'location': 'average_price'})#with values , column names should also be changed\n",
        " data_final_list.append(df_final)#same appending to list\n",
        "df_final_tables = pd.concat(data_final_list)\n",
        "df_final_tables.reset_index(drop=True, inplace=True)#making datframe\n",
        "print(df_final_tables) #the complete dataframe for all years\n",
        "df_final_tables['week']=df_final_tables['week'].apply(convert_suitably) #applying the function to entire column\n",
        "df_final_tables.to_csv('Data of WEEKLY AVERAGE PRICES OF TOTAL TEA SOLD AT INDIAN AUCTION 2008-2023.csv',index=False) #converting it to csv"
      ]
    }
  ]
}